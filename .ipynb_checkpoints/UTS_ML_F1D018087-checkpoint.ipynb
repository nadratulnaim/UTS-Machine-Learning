{
 "cells": [
  {
   "cell_type": "markdown",
   "id": "2388cd6e-732e-49f4-84b4-860938358f07",
   "metadata": {},
   "source": [
    "# Import Library"
   ]
  },
  {
   "cell_type": "code",
   "execution_count": 1,
   "id": "2d7df4eb-9b43-432e-aaa8-e3813268948d",
   "metadata": {},
   "outputs": [],
   "source": [
    "import pandas as pd\n",
    "import numpy as np\n",
    "import matplotlib.pyplot as plt\n",
    "import seaborn as sns\n",
    "from sklearn.linear_model import LinearRegression, LogisticRegression\n",
    "from sklearn.model_selection import train_test_split\n",
    "from sklearn.preprocessing import StandardScaler\n",
    "from sklearn.metrics import confusion_matrix, precision_recall_fscore_support"
   ]
  },
  {
   "cell_type": "markdown",
   "id": "2fd253d7-3bee-49a5-a852-b1ea7ffd09bf",
   "metadata": {},
   "source": [
    "# Load Dataset & Explore\n",
    "Dataset yang digunakan adalah [Medical Cost Personal Datasets](https://www.kaggle.com/mirichoi0218/insurance)."
   ]
  },
  {
   "cell_type": "code",
   "execution_count": 2,
   "id": "7062ec1b-04cf-4eb0-a334-8ea01b164110",
   "metadata": {},
   "outputs": [
    {
     "data": {
      "text/html": [
       "<div>\n",
       "<style scoped>\n",
       "    .dataframe tbody tr th:only-of-type {\n",
       "        vertical-align: middle;\n",
       "    }\n",
       "\n",
       "    .dataframe tbody tr th {\n",
       "        vertical-align: top;\n",
       "    }\n",
       "\n",
       "    .dataframe thead th {\n",
       "        text-align: right;\n",
       "    }\n",
       "</style>\n",
       "<table border=\"1\" class=\"dataframe\">\n",
       "  <thead>\n",
       "    <tr style=\"text-align: right;\">\n",
       "      <th></th>\n",
       "      <th>age</th>\n",
       "      <th>sex</th>\n",
       "      <th>bmi</th>\n",
       "      <th>children</th>\n",
       "      <th>smoker</th>\n",
       "      <th>region</th>\n",
       "      <th>charges</th>\n",
       "    </tr>\n",
       "  </thead>\n",
       "  <tbody>\n",
       "    <tr>\n",
       "      <th>0</th>\n",
       "      <td>19</td>\n",
       "      <td>female</td>\n",
       "      <td>27.900</td>\n",
       "      <td>0</td>\n",
       "      <td>yes</td>\n",
       "      <td>southwest</td>\n",
       "      <td>16884.92400</td>\n",
       "    </tr>\n",
       "    <tr>\n",
       "      <th>1</th>\n",
       "      <td>18</td>\n",
       "      <td>male</td>\n",
       "      <td>33.770</td>\n",
       "      <td>1</td>\n",
       "      <td>no</td>\n",
       "      <td>southeast</td>\n",
       "      <td>1725.55230</td>\n",
       "    </tr>\n",
       "    <tr>\n",
       "      <th>2</th>\n",
       "      <td>28</td>\n",
       "      <td>male</td>\n",
       "      <td>33.000</td>\n",
       "      <td>3</td>\n",
       "      <td>no</td>\n",
       "      <td>southeast</td>\n",
       "      <td>4449.46200</td>\n",
       "    </tr>\n",
       "    <tr>\n",
       "      <th>3</th>\n",
       "      <td>33</td>\n",
       "      <td>male</td>\n",
       "      <td>22.705</td>\n",
       "      <td>0</td>\n",
       "      <td>no</td>\n",
       "      <td>northwest</td>\n",
       "      <td>21984.47061</td>\n",
       "    </tr>\n",
       "    <tr>\n",
       "      <th>4</th>\n",
       "      <td>32</td>\n",
       "      <td>male</td>\n",
       "      <td>28.880</td>\n",
       "      <td>0</td>\n",
       "      <td>no</td>\n",
       "      <td>northwest</td>\n",
       "      <td>3866.85520</td>\n",
       "    </tr>\n",
       "  </tbody>\n",
       "</table>\n",
       "</div>"
      ],
      "text/plain": [
       "   age     sex     bmi  children smoker     region      charges\n",
       "0   19  female  27.900         0    yes  southwest  16884.92400\n",
       "1   18    male  33.770         1     no  southeast   1725.55230\n",
       "2   28    male  33.000         3     no  southeast   4449.46200\n",
       "3   33    male  22.705         0     no  northwest  21984.47061\n",
       "4   32    male  28.880         0     no  northwest   3866.85520"
      ]
     },
     "execution_count": 2,
     "metadata": {},
     "output_type": "execute_result"
    }
   ],
   "source": [
    "df = pd.read_csv('dataset/insurance.csv')\n",
    "\n",
    "df.head()"
   ]
  },
  {
   "cell_type": "code",
   "execution_count": 3,
   "id": "2e97a13c-eb78-4be0-be96-78636ea04bde",
   "metadata": {},
   "outputs": [
    {
     "data": {
      "text/plain": [
       "(1338, 7)"
      ]
     },
     "execution_count": 3,
     "metadata": {},
     "output_type": "execute_result"
    }
   ],
   "source": [
    "df.shape"
   ]
  },
  {
   "cell_type": "code",
   "execution_count": 4,
   "id": "7e52c03f-6918-4b75-a1f2-8bb8d84c6747",
   "metadata": {},
   "outputs": [
    {
     "name": "stdout",
     "output_type": "stream",
     "text": [
      "<class 'pandas.core.frame.DataFrame'>\n",
      "RangeIndex: 1338 entries, 0 to 1337\n",
      "Data columns (total 7 columns):\n",
      " #   Column    Non-Null Count  Dtype  \n",
      "---  ------    --------------  -----  \n",
      " 0   age       1338 non-null   int64  \n",
      " 1   sex       1338 non-null   object \n",
      " 2   bmi       1338 non-null   float64\n",
      " 3   children  1338 non-null   int64  \n",
      " 4   smoker    1338 non-null   object \n",
      " 5   region    1338 non-null   object \n",
      " 6   charges   1338 non-null   float64\n",
      "dtypes: float64(2), int64(2), object(3)\n",
      "memory usage: 73.3+ KB\n"
     ]
    }
   ],
   "source": [
    "df.info()"
   ]
  },
  {
   "cell_type": "code",
   "execution_count": 5,
   "id": "a23d5722-2dde-4ca8-930d-8e822c61b12c",
   "metadata": {},
   "outputs": [
    {
     "name": "stdout",
     "output_type": "stream",
     "text": [
      "<class 'pandas.core.frame.DataFrame'>\n",
      "RangeIndex: 1338 entries, 0 to 1337\n",
      "Data columns (total 10 columns):\n",
      " #   Column            Non-Null Count  Dtype  \n",
      "---  ------            --------------  -----  \n",
      " 0   age               1338 non-null   int64  \n",
      " 1   sex               1338 non-null   int32  \n",
      " 2   bmi               1338 non-null   float64\n",
      " 3   children          1338 non-null   int64  \n",
      " 4   smoker            1338 non-null   int32  \n",
      " 5   charges           1338 non-null   float64\n",
      " 6   region_northeast  1338 non-null   uint8  \n",
      " 7   region_northwest  1338 non-null   uint8  \n",
      " 8   region_southeast  1338 non-null   uint8  \n",
      " 9   region_southwest  1338 non-null   uint8  \n",
      "dtypes: float64(2), int32(2), int64(2), uint8(4)\n",
      "memory usage: 57.6 KB\n"
     ]
    }
   ],
   "source": [
    "df.sex = df.sex.map({'female': 0, 'male': 1}).astype('int')\n",
    "df.smoker = df.smoker.map({'yes': 1, 'no': 0}).astype('int')\n",
    "df = pd.get_dummies(data=df, columns=['region'])\n",
    "\n",
    "df.info()"
   ]
  },
  {
   "cell_type": "code",
   "execution_count": 6,
   "id": "9fd40f77-412d-41f9-8c23-15d8c066ddf2",
   "metadata": {},
   "outputs": [
    {
     "data": {
      "text/plain": [
       "False    1337\n",
       "True        1\n",
       "dtype: int64"
      ]
     },
     "execution_count": 6,
     "metadata": {},
     "output_type": "execute_result"
    }
   ],
   "source": [
    "df.duplicated().value_counts()"
   ]
  },
  {
   "cell_type": "code",
   "execution_count": 7,
   "id": "e7ba781f-b478-40b4-bc1f-d5f0979733d0",
   "metadata": {},
   "outputs": [
    {
     "data": {
      "text/plain": [
       "False    1337\n",
       "dtype: int64"
      ]
     },
     "execution_count": 7,
     "metadata": {},
     "output_type": "execute_result"
    }
   ],
   "source": [
    "df = df.drop_duplicates()\n",
    "\n",
    "df.duplicated().value_counts()"
   ]
  },
  {
   "cell_type": "code",
   "execution_count": 8,
   "id": "98b77f82-c037-40ba-95e5-38edd7b6c0b6",
   "metadata": {},
   "outputs": [
    {
     "data": {
      "text/plain": [
       "<AxesSubplot:ylabel='charges'>"
      ]
     },
     "execution_count": 8,
     "metadata": {},
     "output_type": "execute_result"
    },
    {
     "data": {
      "image/png": "[encoded data removed]",
      "text/plain": [
       "<Figure size 432x288 with 1 Axes>"
      ]
     },
     "metadata": {
      "needs_background": "light"
     },
     "output_type": "display_data"
    }
   ],
   "source": [
    "sns.boxplot(data=df, y='charges')"
   ]
  },
  {
   "cell_type": "code",
   "execution_count": 9,
   "id": "dd1cf5ab-e869-48de-b83a-2604d930ab25",
   "metadata": {},
   "outputs": [],
   "source": [
    "q1, q3 = df.charges.quantile(0.25), df.charges.quantile(0.75)\n",
    "iqr = q3-q1\n",
    "\n",
    "# df = df[df.charges < (q3 + (1.5*iqr))]\n",
    "df = df[df.charges < (q3)]"
   ]
  },
  {
   "cell_type": "code",
   "execution_count": 10,
   "id": "f6ed20dd-5829-46e1-840e-5f1de1128ca0",
   "metadata": {},
   "outputs": [
    {
     "data": {
      "text/plain": [
       "<AxesSubplot:ylabel='charges'>"
      ]
     },
     "execution_count": 10,
     "metadata": {},
     "output_type": "execute_result"
    },
    {
     "data": {
      "image/png": "[encoded data removed]",
      "text/plain": [
       "<Figure size 432x288 with 1 Axes>"
      ]
     },
     "metadata": {
      "needs_background": "light"
     },
     "output_type": "display_data"
    }
   ],
   "source": [
    "sns.boxplot(data=df, y='charges')"
   ]
  },
  {
   "cell_type": "code",
   "execution_count": 11,
   "id": "59f34374-cab4-484d-b86c-7193facd36ea",
   "metadata": {},
   "outputs": [
    {
     "data": {
      "text/plain": [
       "(1002, 10)"
      ]
     },
     "execution_count": 11,
     "metadata": {},
     "output_type": "execute_result"
    }
   ],
   "source": [
    "df.shape"
   ]
  },
  {
   "cell_type": "code",
   "execution_count": 12,
   "id": "c8d154c2-ac65-48be-a9c1-da2d544d9a9a",
   "metadata": {},
   "outputs": [
    {
     "data": {
      "text/html": [
       "<div>\n",
       "<style scoped>\n",
       "    .dataframe tbody tr th:only-of-type {\n",
       "        vertical-align: middle;\n",
       "    }\n",
       "\n",
       "    .dataframe tbody tr th {\n",
       "        vertical-align: top;\n",
       "    }\n",
       "\n",
       "    .dataframe thead th {\n",
       "        text-align: right;\n",
       "    }\n",
       "</style>\n",
       "<table border=\"1\" class=\"dataframe\">\n",
       "  <thead>\n",
       "    <tr style=\"text-align: right;\">\n",
       "      <th></th>\n",
       "      <th>age</th>\n",
       "      <th>sex</th>\n",
       "      <th>bmi</th>\n",
       "      <th>children</th>\n",
       "      <th>smoker</th>\n",
       "      <th>region_northeast</th>\n",
       "      <th>region_northwest</th>\n",
       "      <th>region_southeast</th>\n",
       "      <th>region_southwest</th>\n",
       "      <th>charges</th>\n",
       "    </tr>\n",
       "  </thead>\n",
       "  <tbody>\n",
       "    <tr>\n",
       "      <th>1</th>\n",
       "      <td>18</td>\n",
       "      <td>1</td>\n",
       "      <td>33.77</td>\n",
       "      <td>1</td>\n",
       "      <td>0</td>\n",
       "      <td>0</td>\n",
       "      <td>0</td>\n",
       "      <td>1</td>\n",
       "      <td>0</td>\n",
       "      <td>1725.5523</td>\n",
       "    </tr>\n",
       "    <tr>\n",
       "      <th>2</th>\n",
       "      <td>28</td>\n",
       "      <td>1</td>\n",
       "      <td>33.00</td>\n",
       "      <td>3</td>\n",
       "      <td>0</td>\n",
       "      <td>0</td>\n",
       "      <td>0</td>\n",
       "      <td>1</td>\n",
       "      <td>0</td>\n",
       "      <td>4449.4620</td>\n",
       "    </tr>\n",
       "    <tr>\n",
       "      <th>4</th>\n",
       "      <td>32</td>\n",
       "      <td>1</td>\n",
       "      <td>28.88</td>\n",
       "      <td>0</td>\n",
       "      <td>0</td>\n",
       "      <td>0</td>\n",
       "      <td>1</td>\n",
       "      <td>0</td>\n",
       "      <td>0</td>\n",
       "      <td>3866.8552</td>\n",
       "    </tr>\n",
       "    <tr>\n",
       "      <th>5</th>\n",
       "      <td>31</td>\n",
       "      <td>0</td>\n",
       "      <td>25.74</td>\n",
       "      <td>0</td>\n",
       "      <td>0</td>\n",
       "      <td>0</td>\n",
       "      <td>0</td>\n",
       "      <td>1</td>\n",
       "      <td>0</td>\n",
       "      <td>3756.6216</td>\n",
       "    </tr>\n",
       "    <tr>\n",
       "      <th>6</th>\n",
       "      <td>46</td>\n",
       "      <td>0</td>\n",
       "      <td>33.44</td>\n",
       "      <td>1</td>\n",
       "      <td>0</td>\n",
       "      <td>0</td>\n",
       "      <td>0</td>\n",
       "      <td>1</td>\n",
       "      <td>0</td>\n",
       "      <td>8240.5896</td>\n",
       "    </tr>\n",
       "  </tbody>\n",
       "</table>\n",
       "</div>"
      ],
      "text/plain": [
       "   age  sex    bmi  children  smoker  region_northeast  region_northwest  \\\n",
       "1   18    1  33.77         1       0                 0                 0   \n",
       "2   28    1  33.00         3       0                 0                 0   \n",
       "4   32    1  28.88         0       0                 0                 1   \n",
       "5   31    0  25.74         0       0                 0                 0   \n",
       "6   46    0  33.44         1       0                 0                 0   \n",
       "\n",
       "   region_southeast  region_southwest    charges  \n",
       "1                 1                 0  1725.5523  \n",
       "2                 1                 0  4449.4620  \n",
       "4                 0                 0  3866.8552  \n",
       "5                 1                 0  3756.6216  \n",
       "6                 1                 0  8240.5896  "
      ]
     },
     "execution_count": 12,
     "metadata": {},
     "output_type": "execute_result"
    }
   ],
   "source": [
    "cols = df.columns.tolist()\n",
    "cols = cols[:5] + cols[6:] + [cols[5]]\n",
    "df = df[cols]\n",
    "\n",
    "df.head()"
   ]
  },
  {
   "cell_type": "code",
   "execution_count": 13,
   "id": "adb7f2cd-d074-44d5-af8e-65f2c2546ce6",
   "metadata": {},
   "outputs": [
    {
     "data": {
      "text/html": [
       "<div>\n",
       "<style scoped>\n",
       "    .dataframe tbody tr th:only-of-type {\n",
       "        vertical-align: middle;\n",
       "    }\n",
       "\n",
       "    .dataframe tbody tr th {\n",
       "        vertical-align: top;\n",
       "    }\n",
       "\n",
       "    .dataframe thead th {\n",
       "        text-align: right;\n",
       "    }\n",
       "</style>\n",
       "<table border=\"1\" class=\"dataframe\">\n",
       "  <thead>\n",
       "    <tr style=\"text-align: right;\">\n",
       "      <th></th>\n",
       "      <th>age</th>\n",
       "      <th>sex</th>\n",
       "      <th>bmi</th>\n",
       "      <th>children</th>\n",
       "      <th>smoker</th>\n",
       "      <th>region_northeast</th>\n",
       "      <th>region_northwest</th>\n",
       "      <th>region_southeast</th>\n",
       "      <th>region_southwest</th>\n",
       "      <th>charges</th>\n",
       "    </tr>\n",
       "  </thead>\n",
       "  <tbody>\n",
       "    <tr>\n",
       "      <th>age</th>\n",
       "      <td>1.000000</td>\n",
       "      <td>-0.024904</td>\n",
       "      <td>0.142473</td>\n",
       "      <td>0.048692</td>\n",
       "      <td>-0.154125</td>\n",
       "      <td>-0.000100</td>\n",
       "      <td>0.006246</td>\n",
       "      <td>-0.039075</td>\n",
       "      <td>0.032690</td>\n",
       "      <td>0.833276</td>\n",
       "    </tr>\n",
       "    <tr>\n",
       "      <th>sex</th>\n",
       "      <td>-0.024904</td>\n",
       "      <td>1.000000</td>\n",
       "      <td>0.021004</td>\n",
       "      <td>0.003198</td>\n",
       "      <td>-0.003434</td>\n",
       "      <td>0.006444</td>\n",
       "      <td>-0.002339</td>\n",
       "      <td>0.011602</td>\n",
       "      <td>-0.015505</td>\n",
       "      <td>-0.073896</td>\n",
       "    </tr>\n",
       "    <tr>\n",
       "      <th>bmi</th>\n",
       "      <td>0.142473</td>\n",
       "      <td>0.021004</td>\n",
       "      <td>1.000000</td>\n",
       "      <td>0.017433</td>\n",
       "      <td>-0.186436</td>\n",
       "      <td>-0.155618</td>\n",
       "      <td>-0.134954</td>\n",
       "      <td>0.292853</td>\n",
       "      <td>-0.004708</td>\n",
       "      <td>0.052438</td>\n",
       "    </tr>\n",
       "    <tr>\n",
       "      <th>children</th>\n",
       "      <td>0.048692</td>\n",
       "      <td>0.003198</td>\n",
       "      <td>0.017433</td>\n",
       "      <td>1.000000</td>\n",
       "      <td>-0.055828</td>\n",
       "      <td>-0.033368</td>\n",
       "      <td>0.013324</td>\n",
       "      <td>-0.009638</td>\n",
       "      <td>0.029040</td>\n",
       "      <td>0.143098</td>\n",
       "    </tr>\n",
       "    <tr>\n",
       "      <th>smoker</th>\n",
       "      <td>-0.154125</td>\n",
       "      <td>-0.003434</td>\n",
       "      <td>-0.186436</td>\n",
       "      <td>-0.055828</td>\n",
       "      <td>1.000000</td>\n",
       "      <td>0.092511</td>\n",
       "      <td>-0.012522</td>\n",
       "      <td>-0.063723</td>\n",
       "      <td>-0.014931</td>\n",
       "      <td>0.273798</td>\n",
       "    </tr>\n",
       "    <tr>\n",
       "      <th>region_northeast</th>\n",
       "      <td>-0.000100</td>\n",
       "      <td>0.006444</td>\n",
       "      <td>-0.155618</td>\n",
       "      <td>-0.033368</td>\n",
       "      <td>0.092511</td>\n",
       "      <td>1.000000</td>\n",
       "      <td>-0.325358</td>\n",
       "      <td>-0.327092</td>\n",
       "      <td>-0.332295</td>\n",
       "      <td>0.083693</td>\n",
       "    </tr>\n",
       "    <tr>\n",
       "      <th>region_northwest</th>\n",
       "      <td>0.006246</td>\n",
       "      <td>-0.002339</td>\n",
       "      <td>-0.134954</td>\n",
       "      <td>0.013324</td>\n",
       "      <td>-0.012522</td>\n",
       "      <td>-0.325358</td>\n",
       "      <td>1.000000</td>\n",
       "      <td>-0.334219</td>\n",
       "      <td>-0.339535</td>\n",
       "      <td>0.009462</td>\n",
       "    </tr>\n",
       "    <tr>\n",
       "      <th>region_southeast</th>\n",
       "      <td>-0.039075</td>\n",
       "      <td>0.011602</td>\n",
       "      <td>0.292853</td>\n",
       "      <td>-0.009638</td>\n",
       "      <td>-0.063723</td>\n",
       "      <td>-0.327092</td>\n",
       "      <td>-0.334219</td>\n",
       "      <td>1.000000</td>\n",
       "      <td>-0.341345</td>\n",
       "      <td>-0.087417</td>\n",
       "    </tr>\n",
       "    <tr>\n",
       "      <th>region_southwest</th>\n",
       "      <td>0.032690</td>\n",
       "      <td>-0.015505</td>\n",
       "      <td>-0.004708</td>\n",
       "      <td>0.029040</td>\n",
       "      <td>-0.014931</td>\n",
       "      <td>-0.332295</td>\n",
       "      <td>-0.339535</td>\n",
       "      <td>-0.341345</td>\n",
       "      <td>1.000000</td>\n",
       "      <td>-0.004545</td>\n",
       "    </tr>\n",
       "    <tr>\n",
       "      <th>charges</th>\n",
       "      <td>0.833276</td>\n",
       "      <td>-0.073896</td>\n",
       "      <td>0.052438</td>\n",
       "      <td>0.143098</td>\n",
       "      <td>0.273798</td>\n",
       "      <td>0.083693</td>\n",
       "      <td>0.009462</td>\n",
       "      <td>-0.087417</td>\n",
       "      <td>-0.004545</td>\n",
       "      <td>1.000000</td>\n",
       "    </tr>\n",
       "  </tbody>\n",
       "</table>\n",
       "</div>"
      ],
      "text/plain": [
       "                       age       sex       bmi  children    smoker  \\\n",
       "age               1.000000 -0.024904  0.142473  0.048692 -0.154125   \n",
       "sex              -0.024904  1.000000  0.021004  0.003198 -0.003434   \n",
       "bmi               0.142473  0.021004  1.000000  0.017433 -0.186436   \n",
       "children          0.048692  0.003198  0.017433  1.000000 -0.055828   \n",
       "smoker           -0.154125 -0.003434 -0.186436 -0.055828  1.000000   \n",
       "region_northeast -0.000100  0.006444 -0.155618 -0.033368  0.092511   \n",
       "region_northwest  0.006246 -0.002339 -0.134954  0.013324 -0.012522   \n",
       "region_southeast -0.039075  0.011602  0.292853 -0.009638 -0.063723   \n",
       "region_southwest  0.032690 -0.015505 -0.004708  0.029040 -0.014931   \n",
       "charges           0.833276 -0.073896  0.052438  0.143098  0.273798   \n",
       "\n",
       "                  region_northeast  region_northwest  region_southeast  \\\n",
       "age                      -0.000100          0.006246         -0.039075   \n",
       "sex                       0.006444         -0.002339          0.011602   \n",
       "bmi                      -0.155618         -0.134954          0.292853   \n",
       "children                 -0.033368          0.013324         -0.009638   \n",
       "smoker                    0.092511         -0.012522         -0.063723   \n",
       "region_northeast          1.000000         -0.325358         -0.327092   \n",
       "region_northwest         -0.325358          1.000000         -0.334219   \n",
       "region_southeast         -0.327092         -0.334219          1.000000   \n",
       "region_southwest         -0.332295         -0.339535         -0.341345   \n",
       "charges                   0.083693          0.009462         -0.087417   \n",
       "\n",
       "                  region_southwest   charges  \n",
       "age                       0.032690  0.833276  \n",
       "sex                      -0.015505 -0.073896  \n",
       "bmi                      -0.004708  0.052438  \n",
       "children                  0.029040  0.143098  \n",
       "smoker                   -0.014931  0.273798  \n",
       "region_northeast         -0.332295  0.083693  \n",
       "region_northwest         -0.339535  0.009462  \n",
       "region_southeast         -0.341345 -0.087417  \n",
       "region_southwest          1.000000 -0.004545  \n",
       "charges                  -0.004545  1.000000  "
      ]
     },
     "execution_count": 13,
     "metadata": {},
     "output_type": "execute_result"
    }
   ],
   "source": [
    "df.corr()"
   ]
  },
  {
   "cell_type": "code",
   "execution_count": 14,
   "id": "18bea974-7482-4153-9d94-f761c718f4d5",
   "metadata": {},
   "outputs": [
    {
     "data": {
      "text/plain": [
       "<AxesSubplot:>"
      ]
     },
     "execution_count": 14,
     "metadata": {},
     "output_type": "execute_result"
    },
    {
     "data": {
      "image/png": "[encoded data removed]",
      "text/plain": [
       "<Figure size 720x720 with 2 Axes>"
      ]
     },
     "metadata": {
      "needs_background": "light"
     },
     "output_type": "display_data"
    }
   ],
   "source": [
    "plt.figure(figsize=(10,10))\n",
    "sns.heatmap(df.corr(), annot=True, cmap='cubehelix', square=True, vmin=0, vmax=1)"
   ]
  },
  {
   "cell_type": "code",
   "execution_count": 15,
   "id": "34764133-d49b-4d9c-9b1a-90d1abced538",
   "metadata": {},
   "outputs": [
    {
     "data": {
      "text/plain": [
       "[<matplotlib.lines.Line2D at 0x21cb5e65130>]"
      ]
     },
     "execution_count": 15,
     "metadata": {},
     "output_type": "execute_result"
    },
    {
     "data": {
      "image/png": "[encoded data removed]",
      "text/plain": [
       "<Figure size 432x288 with 1 Axes>"
      ]
     },
     "metadata": {
      "needs_background": "light"
     },
     "output_type": "display_data"
    }
   ],
   "source": [
    "plt.plot(df.age, df.charges, 'o')"
   ]
  },
  {
   "cell_type": "code",
   "execution_count": 16,
   "id": "b877545d-127d-45e9-9535-ef030ef6f432",
   "metadata": {},
   "outputs": [
    {
     "data": {
      "text/plain": [
       "[<matplotlib.lines.Line2D at 0x21cb5eb9fa0>]"
      ]
     },
     "execution_count": 16,
     "metadata": {},
     "output_type": "execute_result"
    },
    {
     "data": {
      "image/png": "[encoded data removed]",
      "text/plain": [
       "<Figure size 432x288 with 1 Axes>"
      ]
     },
     "metadata": {
      "needs_background": "light"
     },
     "output_type": "display_data"
    }
   ],
   "source": [
    "plt.plot(df.children, df.charges, 'o')"
   ]
  },
  {
   "cell_type": "markdown",
   "id": "f5add3c3-c12e-465a-8045-5bd54fd014bc",
   "metadata": {},
   "source": [
    "# Linear Regression"
   ]
  },
  {
   "cell_type": "code",
   "execution_count": 17,
   "id": "711cd979-7878-4fe8-88ef-76edfd5a38e3",
   "metadata": {
    "tags": []
   },
   "outputs": [],
   "source": [
    "x = df.age.values.reshape(-1, 1)\n",
    "y = df.charges"
   ]
  },
  {
   "cell_type": "code",
   "execution_count": 18,
   "id": "62a3b399-56b3-42af-858e-28fe1c7c0c77",
   "metadata": {},
   "outputs": [
    {
     "data": {
      "text/plain": [
       "LinearRegression()"
      ]
     },
     "execution_count": 18,
     "metadata": {},
     "output_type": "execute_result"
    }
   ],
   "source": [
    "regr = LinearRegression()\n",
    "regr.fit(x, y)"
   ]
  },
  {
   "cell_type": "code",
   "execution_count": 19,
   "id": "960139a3-0864-443b-8e70-997bbc84d539",
   "metadata": {},
   "outputs": [
    {
     "data": {
      "text/plain": [
       "(array([238.65700047]), -1965.346756451344)"
      ]
     },
     "execution_count": 19,
     "metadata": {},
     "output_type": "execute_result"
    }
   ],
   "source": [
    "regr.coef_, regr.intercept_"
   ]
  },
  {
   "cell_type": "code",
   "execution_count": 20,
   "id": "4e63a687-91b9-410b-a0c6-dcff89fcec08",
   "metadata": {},
   "outputs": [],
   "source": [
    "y_pred = regr.predict(x)"
   ]
  },
  {
   "cell_type": "code",
   "execution_count": 21,
   "id": "66002c75-8c82-478a-bb0b-a670fae425bb",
   "metadata": {},
   "outputs": [
    {
     "data": {
      "image/png": "[encoded data removed]",
      "text/plain": [
       "<Figure size 432x288 with 1 Axes>"
      ]
     },
     "metadata": {
      "needs_background": "light"
     },
     "output_type": "display_data"
    }
   ],
   "source": [
    "plt.plot(x, y, 'o')\n",
    "plt.plot(x, y_pred)\n",
    "plt.show()"
   ]
  },
  {
   "cell_type": "markdown",
   "id": "473453ec-06bb-4d56-b885-f02d13942705",
   "metadata": {},
   "source": [
    "## Evaluation\n",
    "\n",
    "### MSE"
   ]
  },
  {
   "cell_type": "code",
   "execution_count": 22,
   "id": "1d2d7adb-3a98-45ee-837f-8d3460a553ad",
   "metadata": {},
   "outputs": [
    {
     "data": {
      "text/plain": [
       "4987730.3257658"
      ]
     },
     "execution_count": 22,
     "metadata": {},
     "output_type": "execute_result"
    }
   ],
   "source": [
    "from sklearn.metrics import mean_squared_error\n",
    "mean_squared_error(y, y_pred)"
   ]
  },
  {
   "cell_type": "markdown",
   "id": "35e8e22b-4950-4a54-9012-fb2a730e098a",
   "metadata": {},
   "source": [
    "### MAE"
   ]
  },
  {
   "cell_type": "code",
   "execution_count": 23,
   "id": "2abfe8bf-04bc-4d0c-b7c0-996a3cd7af11",
   "metadata": {},
   "outputs": [
    {
     "data": {
      "text/plain": [
       "1191.6619722536502"
      ]
     },
     "execution_count": 23,
     "metadata": {},
     "output_type": "execute_result"
    }
   ],
   "source": [
    "from sklearn.metrics import mean_absolute_error\n",
    "mean_absolute_error(y, y_pred)"
   ]
  },
  {
   "cell_type": "markdown",
   "id": "fefda6d6-52ee-4335-833c-199eea9e4b81",
   "metadata": {},
   "source": [
    "### R² Score"
   ]
  },
  {
   "cell_type": "code",
   "execution_count": 24,
   "id": "68d6474d-9ee8-4590-b677-81e7206ed0d9",
   "metadata": {},
   "outputs": [
    {
     "data": {
      "text/plain": [
       "0.6943490629168945"
      ]
     },
     "execution_count": 24,
     "metadata": {},
     "output_type": "execute_result"
    }
   ],
   "source": [
    "from sklearn.metrics import r2_score\n",
    "r2_score(y, y_pred)"
   ]
  },
  {
   "cell_type": "code",
   "execution_count": 25,
   "id": "d7fdf13f-723c-41c1-956c-f5685e10a363",
   "metadata": {},
   "outputs": [
    {
     "data": {
      "text/html": [
       "<div>\n",
       "<style scoped>\n",
       "    .dataframe tbody tr th:only-of-type {\n",
       "        vertical-align: middle;\n",
       "    }\n",
       "\n",
       "    .dataframe tbody tr th {\n",
       "        vertical-align: top;\n",
       "    }\n",
       "\n",
       "    .dataframe thead th {\n",
       "        text-align: right;\n",
       "    }\n",
       "</style>\n",
       "<table border=\"1\" class=\"dataframe\">\n",
       "  <thead>\n",
       "    <tr style=\"text-align: right;\">\n",
       "      <th></th>\n",
       "      <th>actual</th>\n",
       "      <th>predict</th>\n",
       "    </tr>\n",
       "  </thead>\n",
       "  <tbody>\n",
       "    <tr>\n",
       "      <th>1</th>\n",
       "      <td>1726.0</td>\n",
       "      <td>2330.0</td>\n",
       "    </tr>\n",
       "    <tr>\n",
       "      <th>2</th>\n",
       "      <td>4449.0</td>\n",
       "      <td>4717.0</td>\n",
       "    </tr>\n",
       "    <tr>\n",
       "      <th>4</th>\n",
       "      <td>3867.0</td>\n",
       "      <td>5672.0</td>\n",
       "    </tr>\n",
       "    <tr>\n",
       "      <th>5</th>\n",
       "      <td>3757.0</td>\n",
       "      <td>5433.0</td>\n",
       "    </tr>\n",
       "    <tr>\n",
       "      <th>6</th>\n",
       "      <td>8241.0</td>\n",
       "      <td>9013.0</td>\n",
       "    </tr>\n",
       "    <tr>\n",
       "      <th>7</th>\n",
       "      <td>7282.0</td>\n",
       "      <td>6865.0</td>\n",
       "    </tr>\n",
       "    <tr>\n",
       "      <th>8</th>\n",
       "      <td>6406.0</td>\n",
       "      <td>6865.0</td>\n",
       "    </tr>\n",
       "    <tr>\n",
       "      <th>10</th>\n",
       "      <td>2721.0</td>\n",
       "      <td>4001.0</td>\n",
       "    </tr>\n",
       "    <tr>\n",
       "      <th>12</th>\n",
       "      <td>1827.0</td>\n",
       "      <td>3524.0</td>\n",
       "    </tr>\n",
       "    <tr>\n",
       "      <th>13</th>\n",
       "      <td>11091.0</td>\n",
       "      <td>11399.0</td>\n",
       "    </tr>\n",
       "  </tbody>\n",
       "</table>\n",
       "</div>"
      ],
      "text/plain": [
       "     actual  predict\n",
       "1    1726.0   2330.0\n",
       "2    4449.0   4717.0\n",
       "4    3867.0   5672.0\n",
       "5    3757.0   5433.0\n",
       "6    8241.0   9013.0\n",
       "7    7282.0   6865.0\n",
       "8    6406.0   6865.0\n",
       "10   2721.0   4001.0\n",
       "12   1827.0   3524.0\n",
       "13  11091.0  11399.0"
      ]
     },
     "execution_count": 25,
     "metadata": {},
     "output_type": "execute_result"
    }
   ],
   "source": [
    "comp = pd.DataFrame({'actual':y,'predict':y_pred})\n",
    "comp.actual = round(comp.actual)\n",
    "comp.predict = round(comp.predict)\n",
    "comp.head(10)"
   ]
  },
  {
   "cell_type": "markdown",
   "id": "245b00e8-6075-432f-90b4-4923fd559082",
   "metadata": {},
   "source": [
    "# Multiple Linear Regression"
   ]
  },
  {
   "cell_type": "code",
   "execution_count": 26,
   "id": "189b0619-795b-4085-ac24-84f937803c36",
   "metadata": {},
   "outputs": [],
   "source": [
    "x = df.iloc[:,:-1]\n",
    "y = df.charges"
   ]
  },
  {
   "cell_type": "code",
   "execution_count": 27,
   "id": "f5c4b627-fd51-45a5-89da-582e1a17f963",
   "metadata": {},
   "outputs": [],
   "source": [
    "x_train, x_test, y_train, y_test = train_test_split(x, y, test_size=0.2, random_state=0)"
   ]
  },
  {
   "cell_type": "code",
   "execution_count": 28,
   "id": "3b206923-4d34-4b1a-be23-7f420b7b506b",
   "metadata": {},
   "outputs": [
    {
     "data": {
      "text/plain": [
       "LinearRegression()"
      ]
     },
     "execution_count": 28,
     "metadata": {},
     "output_type": "execute_result"
    }
   ],
   "source": [
    "mlr = LinearRegression()\n",
    "mlr.fit(x_train, y_train)"
   ]
  },
  {
   "cell_type": "code",
   "execution_count": 29,
   "id": "d2a8e463-6a94-44b3-ab8c-538eed985e60",
   "metadata": {},
   "outputs": [],
   "source": [
    "y_pred = mlr.predict(x_test)"
   ]
  },
  {
   "cell_type": "markdown",
   "id": "69c8578b-7b7a-4873-8da4-67cbeb3d7867",
   "metadata": {},
   "source": [
    "## Evaluation\n",
    "\n",
    "### MSE"
   ]
  },
  {
   "cell_type": "code",
   "execution_count": 30,
   "id": "1f293ae9-fa90-4c36-8cf5-0a08c807fb18",
   "metadata": {},
   "outputs": [
    {
     "data": {
      "text/plain": [
       "1022613.3725229905"
      ]
     },
     "execution_count": 30,
     "metadata": {},
     "output_type": "execute_result"
    }
   ],
   "source": [
    "from sklearn.metrics import mean_squared_error\n",
    "mean_squared_error(y_test, y_pred)"
   ]
  },
  {
   "cell_type": "markdown",
   "id": "41e5af20-85c6-46ef-a697-bcb6bf9bbd16",
   "metadata": {},
   "source": [
    "### MAE"
   ]
  },
  {
   "cell_type": "code",
   "execution_count": 31,
   "id": "63eabce3-9556-4092-8550-4c9577d4277f",
   "metadata": {},
   "outputs": [
    {
     "data": {
      "text/plain": [
       "622.2366804565147"
      ]
     },
     "execution_count": 31,
     "metadata": {},
     "output_type": "execute_result"
    }
   ],
   "source": [
    "from sklearn.metrics import mean_absolute_error\n",
    "mean_absolute_error(y_test, y_pred)"
   ]
  },
  {
   "cell_type": "markdown",
   "id": "4c46d757-d688-4d6e-9c04-d39cca3c56bf",
   "metadata": {},
   "source": [
    "### R² Score"
   ]
  },
  {
   "cell_type": "code",
   "execution_count": 32,
   "id": "4109e43f-eff9-4227-a9ac-3a55b6aa6fec",
   "metadata": {},
   "outputs": [
    {
     "name": "stdout",
     "output_type": "stream",
     "text": [
      "Train score: 0.8697424015652719\n",
      "Test score: 0.9296123336684149\n"
     ]
    }
   ],
   "source": [
    "print(f\"Train score: {mlr.score(x_train, y_train)}\")\n",
    "print(f\"Test score: {mlr.score(x_test, y_test)}\")"
   ]
  },
  {
   "cell_type": "code",
   "execution_count": 33,
   "id": "baca926e-d08e-4039-9ce3-cee88a9d023d",
   "metadata": {},
   "outputs": [
    {
     "data": {
      "text/html": [
       "<div>\n",
       "<style scoped>\n",
       "    .dataframe tbody tr th:only-of-type {\n",
       "        vertical-align: middle;\n",
       "    }\n",
       "\n",
       "    .dataframe tbody tr th {\n",
       "        vertical-align: top;\n",
       "    }\n",
       "\n",
       "    .dataframe thead th {\n",
       "        text-align: right;\n",
       "    }\n",
       "</style>\n",
       "<table border=\"1\" class=\"dataframe\">\n",
       "  <thead>\n",
       "    <tr style=\"text-align: right;\">\n",
       "      <th></th>\n",
       "      <th>actual</th>\n",
       "      <th>predict</th>\n",
       "    </tr>\n",
       "  </thead>\n",
       "  <tbody>\n",
       "    <tr>\n",
       "      <th>937</th>\n",
       "      <td>8966.0</td>\n",
       "      <td>9020.0</td>\n",
       "    </tr>\n",
       "    <tr>\n",
       "      <th>712</th>\n",
       "      <td>8311.0</td>\n",
       "      <td>8859.0</td>\n",
       "    </tr>\n",
       "    <tr>\n",
       "      <th>404</th>\n",
       "      <td>3260.0</td>\n",
       "      <td>4155.0</td>\n",
       "    </tr>\n",
       "    <tr>\n",
       "      <th>481</th>\n",
       "      <td>9305.0</td>\n",
       "      <td>9755.0</td>\n",
       "    </tr>\n",
       "    <tr>\n",
       "      <th>1109</th>\n",
       "      <td>8605.0</td>\n",
       "      <td>8985.0</td>\n",
       "    </tr>\n",
       "    <tr>\n",
       "      <th>735</th>\n",
       "      <td>9584.0</td>\n",
       "      <td>10011.0</td>\n",
       "    </tr>\n",
       "    <tr>\n",
       "      <th>37</th>\n",
       "      <td>2302.0</td>\n",
       "      <td>2887.0</td>\n",
       "    </tr>\n",
       "    <tr>\n",
       "      <th>319</th>\n",
       "      <td>4668.0</td>\n",
       "      <td>5486.0</td>\n",
       "    </tr>\n",
       "    <tr>\n",
       "      <th>413</th>\n",
       "      <td>5080.0</td>\n",
       "      <td>4731.0</td>\n",
       "    </tr>\n",
       "    <tr>\n",
       "      <th>1330</th>\n",
       "      <td>12629.0</td>\n",
       "      <td>12107.0</td>\n",
       "    </tr>\n",
       "  </tbody>\n",
       "</table>\n",
       "</div>"
      ],
      "text/plain": [
       "       actual  predict\n",
       "937    8966.0   9020.0\n",
       "712    8311.0   8859.0\n",
       "404    3260.0   4155.0\n",
       "481    9305.0   9755.0\n",
       "1109   8605.0   8985.0\n",
       "735    9584.0  10011.0\n",
       "37     2302.0   2887.0\n",
       "319    4668.0   5486.0\n",
       "413    5080.0   4731.0\n",
       "1330  12629.0  12107.0"
      ]
     },
     "execution_count": 33,
     "metadata": {},
     "output_type": "execute_result"
    }
   ],
   "source": [
    "comp = pd.DataFrame({'actual':y_test,'predict':y_pred})\n",
    "comp.actual = round(comp.actual)\n",
    "comp.predict = round(comp.predict)\n",
    "comp.head(10)"
   ]
  },
  {
   "cell_type": "markdown",
   "id": "4eb1efd4-3a4f-4d6f-bac9-5251926e40e1",
   "metadata": {},
   "source": [
    "# Logistic Regression"
   ]
  },
  {
   "cell_type": "code",
   "execution_count": 34,
   "id": "6532b279-45bc-4828-8acf-153080447f71",
   "metadata": {},
   "outputs": [
    {
     "data": {
      "text/html": [
       "<div>\n",
       "<style scoped>\n",
       "    .dataframe tbody tr th:only-of-type {\n",
       "        vertical-align: middle;\n",
       "    }\n",
       "\n",
       "    .dataframe tbody tr th {\n",
       "        vertical-align: top;\n",
       "    }\n",
       "\n",
       "    .dataframe thead th {\n",
       "        text-align: right;\n",
       "    }\n",
       "</style>\n",
       "<table border=\"1\" class=\"dataframe\">\n",
       "  <thead>\n",
       "    <tr style=\"text-align: right;\">\n",
       "      <th></th>\n",
       "      <th>age</th>\n",
       "      <th>sex</th>\n",
       "      <th>bmi</th>\n",
       "      <th>children</th>\n",
       "      <th>smoker</th>\n",
       "      <th>region_northeast</th>\n",
       "      <th>region_northwest</th>\n",
       "      <th>region_southeast</th>\n",
       "      <th>region_southwest</th>\n",
       "      <th>charges</th>\n",
       "    </tr>\n",
       "  </thead>\n",
       "  <tbody>\n",
       "    <tr>\n",
       "      <th>1</th>\n",
       "      <td>18</td>\n",
       "      <td>1</td>\n",
       "      <td>33.77</td>\n",
       "      <td>1</td>\n",
       "      <td>0</td>\n",
       "      <td>0</td>\n",
       "      <td>0</td>\n",
       "      <td>1</td>\n",
       "      <td>0</td>\n",
       "      <td>1725.5523</td>\n",
       "    </tr>\n",
       "    <tr>\n",
       "      <th>2</th>\n",
       "      <td>28</td>\n",
       "      <td>1</td>\n",
       "      <td>33.00</td>\n",
       "      <td>3</td>\n",
       "      <td>0</td>\n",
       "      <td>0</td>\n",
       "      <td>0</td>\n",
       "      <td>1</td>\n",
       "      <td>0</td>\n",
       "      <td>4449.4620</td>\n",
       "    </tr>\n",
       "    <tr>\n",
       "      <th>4</th>\n",
       "      <td>32</td>\n",
       "      <td>1</td>\n",
       "      <td>28.88</td>\n",
       "      <td>0</td>\n",
       "      <td>0</td>\n",
       "      <td>0</td>\n",
       "      <td>1</td>\n",
       "      <td>0</td>\n",
       "      <td>0</td>\n",
       "      <td>3866.8552</td>\n",
       "    </tr>\n",
       "    <tr>\n",
       "      <th>5</th>\n",
       "      <td>31</td>\n",
       "      <td>0</td>\n",
       "      <td>25.74</td>\n",
       "      <td>0</td>\n",
       "      <td>0</td>\n",
       "      <td>0</td>\n",
       "      <td>0</td>\n",
       "      <td>1</td>\n",
       "      <td>0</td>\n",
       "      <td>3756.6216</td>\n",
       "    </tr>\n",
       "    <tr>\n",
       "      <th>6</th>\n",
       "      <td>46</td>\n",
       "      <td>0</td>\n",
       "      <td>33.44</td>\n",
       "      <td>1</td>\n",
       "      <td>0</td>\n",
       "      <td>0</td>\n",
       "      <td>0</td>\n",
       "      <td>1</td>\n",
       "      <td>0</td>\n",
       "      <td>8240.5896</td>\n",
       "    </tr>\n",
       "  </tbody>\n",
       "</table>\n",
       "</div>"
      ],
      "text/plain": [
       "   age  sex    bmi  children  smoker  region_northeast  region_northwest  \\\n",
       "1   18    1  33.77         1       0                 0                 0   \n",
       "2   28    1  33.00         3       0                 0                 0   \n",
       "4   32    1  28.88         0       0                 0                 1   \n",
       "5   31    0  25.74         0       0                 0                 0   \n",
       "6   46    0  33.44         1       0                 0                 0   \n",
       "\n",
       "   region_southeast  region_southwest    charges  \n",
       "1                 1                 0  1725.5523  \n",
       "2                 1                 0  4449.4620  \n",
       "4                 0                 0  3866.8552  \n",
       "5                 1                 0  3756.6216  \n",
       "6                 1                 0  8240.5896  "
      ]
     },
     "execution_count": 34,
     "metadata": {},
     "output_type": "execute_result"
    }
   ],
   "source": [
    "df.head()"
   ]
  },
  {
   "cell_type": "code",
   "execution_count": 35,
   "id": "b26db15c-daac-459a-8d9d-46effd801858",
   "metadata": {},
   "outputs": [
    {
     "data": {
      "text/plain": [
       "array([ 1121.8739    ,  6276.74850333, 11431.62310667, 16586.49771   ])"
      ]
     },
     "execution_count": 35,
     "metadata": {},
     "output_type": "execute_result"
    }
   ],
   "source": [
    "group_names = ['Cheap', 'Normal', 'Expensive']\n",
    "bins = np.linspace(min(df.charges), max(df.charges), 4)\n",
    "bins"
   ]
  },
  {
   "cell_type": "code",
   "execution_count": 36,
   "id": "776fc35c-28e6-43af-9d62-bc4457331236",
   "metadata": {},
   "outputs": [
    {
     "data": {
      "text/html": [
       "<div>\n",
       "<style scoped>\n",
       "    .dataframe tbody tr th:only-of-type {\n",
       "        vertical-align: middle;\n",
       "    }\n",
       "\n",
       "    .dataframe tbody tr th {\n",
       "        vertical-align: top;\n",
       "    }\n",
       "\n",
       "    .dataframe thead th {\n",
       "        text-align: right;\n",
       "    }\n",
       "</style>\n",
       "<table border=\"1\" class=\"dataframe\">\n",
       "  <thead>\n",
       "    <tr style=\"text-align: right;\">\n",
       "      <th></th>\n",
       "      <th>age</th>\n",
       "      <th>sex</th>\n",
       "      <th>bmi</th>\n",
       "      <th>children</th>\n",
       "      <th>smoker</th>\n",
       "      <th>region_northeast</th>\n",
       "      <th>region_northwest</th>\n",
       "      <th>region_southeast</th>\n",
       "      <th>region_southwest</th>\n",
       "      <th>charges</th>\n",
       "      <th>charges_category</th>\n",
       "    </tr>\n",
       "  </thead>\n",
       "  <tbody>\n",
       "    <tr>\n",
       "      <th>1</th>\n",
       "      <td>18</td>\n",
       "      <td>1</td>\n",
       "      <td>33.77</td>\n",
       "      <td>1</td>\n",
       "      <td>0</td>\n",
       "      <td>0</td>\n",
       "      <td>0</td>\n",
       "      <td>1</td>\n",
       "      <td>0</td>\n",
       "      <td>1725.5523</td>\n",
       "      <td>Cheap</td>\n",
       "    </tr>\n",
       "    <tr>\n",
       "      <th>2</th>\n",
       "      <td>28</td>\n",
       "      <td>1</td>\n",
       "      <td>33.00</td>\n",
       "      <td>3</td>\n",
       "      <td>0</td>\n",
       "      <td>0</td>\n",
       "      <td>0</td>\n",
       "      <td>1</td>\n",
       "      <td>0</td>\n",
       "      <td>4449.4620</td>\n",
       "      <td>Cheap</td>\n",
       "    </tr>\n",
       "    <tr>\n",
       "      <th>4</th>\n",
       "      <td>32</td>\n",
       "      <td>1</td>\n",
       "      <td>28.88</td>\n",
       "      <td>0</td>\n",
       "      <td>0</td>\n",
       "      <td>0</td>\n",
       "      <td>1</td>\n",
       "      <td>0</td>\n",
       "      <td>0</td>\n",
       "      <td>3866.8552</td>\n",
       "      <td>Cheap</td>\n",
       "    </tr>\n",
       "    <tr>\n",
       "      <th>5</th>\n",
       "      <td>31</td>\n",
       "      <td>0</td>\n",
       "      <td>25.74</td>\n",
       "      <td>0</td>\n",
       "      <td>0</td>\n",
       "      <td>0</td>\n",
       "      <td>0</td>\n",
       "      <td>1</td>\n",
       "      <td>0</td>\n",
       "      <td>3756.6216</td>\n",
       "      <td>Cheap</td>\n",
       "    </tr>\n",
       "    <tr>\n",
       "      <th>6</th>\n",
       "      <td>46</td>\n",
       "      <td>0</td>\n",
       "      <td>33.44</td>\n",
       "      <td>1</td>\n",
       "      <td>0</td>\n",
       "      <td>0</td>\n",
       "      <td>0</td>\n",
       "      <td>1</td>\n",
       "      <td>0</td>\n",
       "      <td>8240.5896</td>\n",
       "      <td>Normal</td>\n",
       "    </tr>\n",
       "  </tbody>\n",
       "</table>\n",
       "</div>"
      ],
      "text/plain": [
       "   age  sex    bmi  children  smoker  region_northeast  region_northwest  \\\n",
       "1   18    1  33.77         1       0                 0                 0   \n",
       "2   28    1  33.00         3       0                 0                 0   \n",
       "4   32    1  28.88         0       0                 0                 1   \n",
       "5   31    0  25.74         0       0                 0                 0   \n",
       "6   46    0  33.44         1       0                 0                 0   \n",
       "\n",
       "   region_southeast  region_southwest    charges charges_category  \n",
       "1                 1                 0  1725.5523            Cheap  \n",
       "2                 1                 0  4449.4620            Cheap  \n",
       "4                 0                 0  3866.8552            Cheap  \n",
       "5                 1                 0  3756.6216            Cheap  \n",
       "6                 1                 0  8240.5896           Normal  "
      ]
     },
     "execution_count": 36,
     "metadata": {},
     "output_type": "execute_result"
    }
   ],
   "source": [
    "df['charges_category'] = pd.cut(df.charges, bins, labels=group_names, include_lowest=True)\n",
    "\n",
    "df.head()"
   ]
  },
  {
   "cell_type": "code",
   "execution_count": 37,
   "id": "06f1bff9-ff2c-4a6e-8a3f-07ebd718c193",
   "metadata": {},
   "outputs": [
    {
     "data": {
      "text/plain": [
       "Cheap        446\n",
       "Normal       357\n",
       "Expensive    199\n",
       "Name: charges_category, dtype: int64"
      ]
     },
     "execution_count": 37,
     "metadata": {},
     "output_type": "execute_result"
    }
   ],
   "source": [
    "df.charges_category.value_counts()"
   ]
  },
  {
   "cell_type": "code",
   "execution_count": 38,
   "id": "0502fb57-d4c3-4834-85a8-9698977d4719",
   "metadata": {
    "tags": []
   },
   "outputs": [],
   "source": [
    "x = df.iloc[:, :-2]\n",
    "y = df.iloc[:, -1]"
   ]
  },
  {
   "cell_type": "code",
   "execution_count": 39,
   "id": "f8260503-8213-49f5-9c57-9f8f8df68227",
   "metadata": {},
   "outputs": [],
   "source": [
    "x_train, x_test, y_train, y_test = train_test_split(x, y, test_size=0.2, random_state=0)"
   ]
  },
  {
   "cell_type": "code",
   "execution_count": 40,
   "id": "6fa26856-0376-4ece-a746-e7a36e2feb66",
   "metadata": {},
   "outputs": [],
   "source": [
    "scaler = StandardScaler()\n",
    "x_train = scaler.fit_transform(x_train)\n",
    "x_test = scaler.transform(x_test)"
   ]
  },
  {
   "cell_type": "code",
   "execution_count": 41,
   "id": "8e53e486-d666-4fa8-8482-96fc50320f80",
   "metadata": {},
   "outputs": [
    {
     "data": {
      "text/plain": [
       "LogisticRegression()"
      ]
     },
     "execution_count": 41,
     "metadata": {},
     "output_type": "execute_result"
    }
   ],
   "source": [
    "clf = LogisticRegression()\n",
    "clf.fit(x_train, y_train)"
   ]
  },
  {
   "cell_type": "code",
   "execution_count": 42,
   "id": "d0a23dce-f034-48ee-8e31-ca96dc6ad5cf",
   "metadata": {},
   "outputs": [],
   "source": [
    "y_pred = clf.predict(x_test)"
   ]
  },
  {
   "cell_type": "code",
   "execution_count": 43,
   "id": "f637e916-b845-4712-9d04-231f3ae747e8",
   "metadata": {},
   "outputs": [
    {
     "data": {
      "text/plain": [
       "<AxesSubplot:>"
      ]
     },
     "execution_count": 43,
     "metadata": {},
     "output_type": "execute_result"
    },
    {
     "data": {
      "image/png": "[encoded data removed]",
      "text/plain": [
       "<Figure size 432x288 with 2 Axes>"
      ]
     },
     "metadata": {
      "needs_background": "light"
     },
     "output_type": "display_data"
    }
   ],
   "source": [
    "sns.heatmap(\n",
    "    confusion_matrix(y_test, y_pred),\n",
    "    annot = True,\n",
    "    xticklabels=sorted(group_names),\n",
    "    yticklabels=sorted(group_names),\n",
    "    cmap='magma'\n",
    ")"
   ]
  },
  {
   "cell_type": "markdown",
   "id": "08937be2-f318-406f-bc69-36e099092c7a",
   "metadata": {},
   "source": [
    "## Evaluation"
   ]
  },
  {
   "cell_type": "code",
   "execution_count": 44,
   "id": "c23cec8c-6be9-4284-8a04-89e1811db075",
   "metadata": {},
   "outputs": [
    {
     "name": "stdout",
     "output_type": "stream",
     "text": [
      "Train score: 0.9375780274656679\n",
      "Test score: 0.9601990049751243\n"
     ]
    }
   ],
   "source": [
    "print(f\"Train score: {clf.score(x_train, y_train)}\")\n",
    "print(f\"Test score: {clf.score(x_test, y_test)}\")"
   ]
  },
  {
   "cell_type": "code",
   "execution_count": 45,
   "id": "f5cb65eb-c991-4262-b18c-4990f0afca59",
   "metadata": {},
   "outputs": [
    {
     "name": "stdout",
     "output_type": "stream",
     "text": [
      "(Precision, Recall, F1 Score): (0.9477577003097624, 0.9685543030953658, 0.9572767126670989)\n"
     ]
    }
   ],
   "source": [
    "print(f\"(Precision, Recall, F1 Score): {precision_recall_fscore_support(y_test, y_pred, average='macro')[:-1]}\")"
   ]
  }
 ],
 "metadata": {
  "kernelspec": {
   "display_name": "Python 3",
   "language": "python",
   "name": "python3"
  },
  "language_info": {
   "codemirror_mode": {
    "name": "ipython",
    "version": 3
   },
   "file_extension": ".py",
   "mimetype": "text/x-python",
   "name": "python",
   "nbconvert_exporter": "python",
   "pygments_lexer": "ipython3",
   "version": "3.8.8"
  }
 },
 "nbformat": 4,
 "nbformat_minor": 5
}
